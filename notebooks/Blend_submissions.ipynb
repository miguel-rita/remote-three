{
 "cells": [
  {
   "cell_type": "code",
   "execution_count": 3,
   "metadata": {},
   "outputs": [],
   "source": [
    "# Load ref sub\n",
    "import pandas as pd\n",
    "import numpy as np\n",
    "\n",
    "ref = pd.read_csv('../submissions/reference_0694.csv')\n",
    "best_sub = pd.read_csv('../submissions/lgbm_v27_0.6930_pp.csv')"
   ]
  },
  {
   "cell_type": "code",
   "execution_count": 7,
   "metadata": {},
   "outputs": [
    {
     "data": {
      "text/plain": [
       "(1018, 672)"
      ]
     },
     "execution_count": 7,
     "metadata": {},
     "output_type": "execute_result"
    }
   ],
   "source": [
    "best_sub['target'].sum(), ref['target'].sum()"
   ]
  },
  {
   "cell_type": "code",
   "execution_count": 20,
   "metadata": {},
   "outputs": [],
   "source": []
  },
  {
   "cell_type": "code",
   "execution_count": 26,
   "metadata": {},
   "outputs": [
    {
     "data": {
      "text/plain": [
       "751.0"
      ]
     },
     "execution_count": 26,
     "metadata": {},
     "output_type": "execute_result"
    }
   ],
   "source": [
    "new_sub = ref.copy()\n",
    "new_values = np.zeros(ref.shape[0])\n",
    "np.random.seed(0)\n",
    "rands = np.random.rand(new_sub.shape[0])\n",
    "ref_vals = ref['target'].values\n",
    "best_vals = best_sub['target'].values\n",
    "for i, (ref_val, best_val) in enumerate(zip(ref_vals, best_vals)):\n",
    "    if ref_val == best_val:\n",
    "        new_values[i] = ref_val\n",
    "    elif ref_val > best_val:\n",
    "        new_values[i] = ref_val if rands[i] > 0.7 else best_val\n",
    "    elif ref_val < best_val:\n",
    "        new_values[i] = ref_val if rands[i] > 0.3 else best_val\n",
    "np.sum(new_values)"
   ]
  },
  {
   "cell_type": "code",
   "execution_count": 27,
   "metadata": {},
   "outputs": [],
   "source": [
    "ref['target'] = new_values"
   ]
  },
  {
   "cell_type": "code",
   "execution_count": 28,
   "metadata": {},
   "outputs": [
    {
     "data": {
      "text/plain": [
       "signal_id    383962560.0\n",
       "target             751.0\n",
       "dtype: float64"
      ]
     },
     "execution_count": 28,
     "metadata": {},
     "output_type": "execute_result"
    }
   ],
   "source": [
    "ref.sum()"
   ]
  },
  {
   "cell_type": "code",
   "execution_count": 30,
   "metadata": {},
   "outputs": [],
   "source": [
    "ref.to_csv('../submissions/random_blend_ref_0694.csv', index=False, float_format='%.0f')"
   ]
  },
  {
   "cell_type": "code",
   "execution_count": null,
   "metadata": {},
   "outputs": [],
   "source": []
  }
 ],
 "metadata": {
  "kernelspec": {
   "display_name": "Python 3",
   "language": "python",
   "name": "python3"
  },
  "language_info": {
   "codemirror_mode": {
    "name": "ipython",
    "version": 3
   },
   "file_extension": ".py",
   "mimetype": "text/x-python",
   "name": "python",
   "nbconvert_exporter": "python",
   "pygments_lexer": "ipython3",
   "version": "3.6.8"
  }
 },
 "nbformat": 4,
 "nbformat_minor": 2
}
