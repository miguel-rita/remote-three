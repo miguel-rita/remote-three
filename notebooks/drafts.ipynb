{
 "cells": [
  {
   "cell_type": "code",
   "execution_count": 18,
   "metadata": {},
   "outputs": [],
   "source": [
    "import numpy as np\n",
    "import pandas as pd\n",
    "import seaborn as sns\n",
    "import matplotlib.pyplot as plt\n",
    "\n",
    "#tc = np.load('../data/test_chunks/test_chunks_1.npy')"
   ]
  },
  {
   "cell_type": "code",
   "execution_count": 19,
   "metadata": {},
   "outputs": [],
   "source": [
    "import pickle\n",
    "\n",
    "sang_preds = pickle.load( open( \"../other/nn_603_stack.pickle\", \"rb\" ) )"
   ]
  },
  {
   "cell_type": "code",
   "execution_count": 31,
   "metadata": {},
   "outputs": [],
   "source": [
    "sang_oof = sang_preds[0]\n",
    "sang_test = sang_preds[1]\n",
    "sang_df_oof = pd.Series(sang_oof).to_frame(name='sang_lstm_603').to_hdf('../level_1_preds/sang_lstm_603_oof.h5', key='w')\n",
    "sang_df_test = pd.Series(sang_test).to_frame(name='sang_lstm_603').to_hdf('../level_1_preds/sang_lstm_603_test.h5', key='w')"
   ]
  },
  {
   "cell_type": "code",
   "execution_count": 40,
   "metadata": {},
   "outputs": [
    {
     "data": {
      "text/plain": [
       "(0.822265625, 0.7233676975945017, 0.7560514140943269)"
      ]
     },
     "execution_count": 40,
     "metadata": {},
     "output_type": "execute_result"
    }
   ],
   "source": [
    "from sklearn.metrics import precision_score, recall_score, matthews_corrcoef\n",
    "\n",
    "y_tgt = np.load('../other/y_tgt.npy')\n",
    "old_tgts = np.reshape(y_tgt, (int(y_tgt.size/3),-1))\n",
    "old_tgts[np.sum(old_tgts, axis=1)>=1] = 1\n",
    "old_y_tgt = np.copy(y_tgt)\n",
    "y_tgt = np.reshape(old_tgts, (-1,))\n",
    "\n",
    "sang_oof_round = np.round(sang_oof).astype(int)\n",
    "precision_score(y_tgt, sang_oof_round), recall_score(y_tgt, sang_oof_round), matthews_corrcoef(y_tgt, sang_oof_round)"
   ]
  },
  {
   "cell_type": "code",
   "execution_count": 74,
   "metadata": {},
   "outputs": [],
   "source": [
    "import glob\n",
    "paths = glob.glob('../submissions/lgbm_v80*')"
   ]
  },
  {
   "cell_type": "code",
   "execution_count": 75,
   "metadata": {},
   "outputs": [],
   "source": [
    "subs=[]\n",
    "for p in paths:\n",
    "    subs.append(pd.read_csv(p)['target'].values[:,None])\n",
    "concated_targets = np.hstack(subs)"
   ]
  },
  {
   "cell_type": "code",
   "execution_count": 76,
   "metadata": {},
   "outputs": [
    {
     "data": {
      "text/plain": [
       "array([1025,  965,  927,  998, 1014, 1006, 1085,  920,  910,  934,  940,\n",
       "        967, 1028,  955,  997, 1011, 1040, 1048,  930,  981,  969,  967,\n",
       "        998,  924, 1036,  896,  980,  956,  981,  904,  995,  985,  975,\n",
       "       1062,  922,  948,  886,  932, 1007, 1052, 1041, 1017,  993, 1003,\n",
       "        938, 1014, 1078,  925,  978, 1005,  933,  973,  954, 1030,  937,\n",
       "        911,  994,  975, 1018, 1050,  970,  986, 1037,  945,  995,  966,\n",
       "        985,  909, 1031,  915,  964, 1009,  941,  897, 1008,  901,  901,\n",
       "        937, 1077,  980,  968,  904, 1085,  903,  962,  955,  984, 1026,\n",
       "       1073, 1046, 1026, 1041,  940,  920,  941, 1041,  950, 1036,  950,\n",
       "       1011])"
      ]
     },
     "execution_count": 76,
     "metadata": {},
     "output_type": "execute_result"
    }
   ],
   "source": [
    "np.sum(concated_targets, axis=0)"
   ]
  },
  {
   "cell_type": "code",
   "execution_count": 77,
   "metadata": {},
   "outputs": [],
   "source": [
    "blended = np.round(np.mean(concated_targets, axis=1)).astype(int)\n",
    "blended.shape, np.sum(blended)\n",
    "final_sub = pd.read_csv(paths[0])\n",
    "final_sub['target'] = blended\n",
    "final_sub.to_csv('../submissions/blend2_v80_lgbm.csv', index=False)"
   ]
  },
  {
   "cell_type": "code",
   "execution_count": 78,
   "metadata": {},
   "outputs": [
    {
     "data": {
      "text/plain": [
       "signal_id    383962560\n",
       "target             982\n",
       "dtype: int64"
      ]
     },
     "execution_count": 78,
     "metadata": {},
     "output_type": "execute_result"
    }
   ],
   "source": [
    "final_sub.sum()"
   ]
  },
  {
   "cell_type": "code",
   "execution_count": 7,
   "metadata": {},
   "outputs": [],
   "source": [
    "aug_train = pd.read_hdf('../features/pp_train_db20_base-feats_v21_aug_0.25.h5')\n",
    "aug_tgt = np.load('../data/y_tgt_aug_0.25.npy')"
   ]
  },
  {
   "cell_type": "code",
   "execution_count": 2,
   "metadata": {},
   "outputs": [],
   "source": [
    "raw_feats = np.load('../features_cnn/pp_train_db20_raw-feats_v2.npy')"
   ]
  },
  {
   "cell_type": "code",
   "execution_count": 6,
   "metadata": {},
   "outputs": [],
   "source": [
    "v21 = pd.read_hdf('../features/pp_train_db20_base-feats_v21.h5')\n",
    "v61 = pd.read_hdf('../features/pp_train_db20_base-feats_v61.h5')"
   ]
  },
  {
   "cell_type": "code",
   "execution_count": 33,
   "metadata": {},
   "outputs": [],
   "source": [
    "cols = list(v21.columns)"
   ]
  },
  {
   "cell_type": "code",
   "execution_count": 31,
   "metadata": {},
   "outputs": [
    {
     "data": {
      "text/plain": [
       "Index(['num_peaks_rr0.25_md30_rl0.10', 'mean_height_rr0.25_md30_rl0.10',\n",
       "       'std_height_rr0.25_md30_rl0.10', 'std_width_rr0.25_md30_rl0.10',\n",
       "       'percen_width_10_rr0.25_md30_rl0.10',\n",
       "       'percen_width_90_rr0.25_md30_rl0.10'],\n",
       "      dtype='object')"
      ]
     },
     "execution_count": 31,
     "metadata": {},
     "output_type": "execute_result"
    }
   ],
   "source": [
    "cols"
   ]
  },
  {
   "cell_type": "code",
   "execution_count": 7,
   "metadata": {},
   "outputs": [
    {
     "data": {
      "text/html": [
       "<div>\n",
       "<style scoped>\n",
       "    .dataframe tbody tr th:only-of-type {\n",
       "        vertical-align: middle;\n",
       "    }\n",
       "\n",
       "    .dataframe tbody tr th {\n",
       "        vertical-align: top;\n",
       "    }\n",
       "\n",
       "    .dataframe thead th {\n",
       "        text-align: right;\n",
       "    }\n",
       "</style>\n",
       "<table border=\"1\" class=\"dataframe\">\n",
       "  <thead>\n",
       "    <tr style=\"text-align: right;\">\n",
       "      <th></th>\n",
       "      <th>num_peaks_rr0.25_md30_rl0.10</th>\n",
       "      <th>mean_height_rr0.25_md30_rl0.10</th>\n",
       "      <th>std_height_rr0.25_md30_rl0.10</th>\n",
       "      <th>std_width_rr0.25_md30_rl0.10</th>\n",
       "      <th>percen_width_10_rr0.25_md30_rl0.10</th>\n",
       "      <th>percen_width_90_rr0.25_md30_rl0.10</th>\n",
       "    </tr>\n",
       "  </thead>\n",
       "  <tbody>\n",
       "    <tr>\n",
       "      <th>count</th>\n",
       "      <td>8712.000000</td>\n",
       "      <td>8141.000000</td>\n",
       "      <td>8141.000000</td>\n",
       "      <td>8141.000000</td>\n",
       "      <td>8141.000000</td>\n",
       "      <td>8141.000000</td>\n",
       "    </tr>\n",
       "    <tr>\n",
       "      <th>mean</th>\n",
       "      <td>113.543159</td>\n",
       "      <td>0.139162</td>\n",
       "      <td>4.011674</td>\n",
       "      <td>28.069526</td>\n",
       "      <td>9.106313</td>\n",
       "      <td>70.843847</td>\n",
       "    </tr>\n",
       "    <tr>\n",
       "      <th>std</th>\n",
       "      <td>191.409626</td>\n",
       "      <td>0.812962</td>\n",
       "      <td>1.674391</td>\n",
       "      <td>47.953667</td>\n",
       "      <td>28.047892</td>\n",
       "      <td>128.330568</td>\n",
       "    </tr>\n",
       "    <tr>\n",
       "      <th>min</th>\n",
       "      <td>0.000000</td>\n",
       "      <td>-6.500000</td>\n",
       "      <td>0.000000</td>\n",
       "      <td>0.000000</td>\n",
       "      <td>0.119875</td>\n",
       "      <td>0.157143</td>\n",
       "    </tr>\n",
       "    <tr>\n",
       "      <th>25%</th>\n",
       "      <td>21.000000</td>\n",
       "      <td>-0.166667</td>\n",
       "      <td>3.043390</td>\n",
       "      <td>0.206507</td>\n",
       "      <td>0.200000</td>\n",
       "      <td>0.600000</td>\n",
       "    </tr>\n",
       "    <tr>\n",
       "      <th>50%</th>\n",
       "      <td>63.000000</td>\n",
       "      <td>0.122093</td>\n",
       "      <td>4.138245</td>\n",
       "      <td>0.396707</td>\n",
       "      <td>0.219556</td>\n",
       "      <td>1.047111</td>\n",
       "    </tr>\n",
       "    <tr>\n",
       "      <th>75%</th>\n",
       "      <td>127.000000</td>\n",
       "      <td>0.500000</td>\n",
       "      <td>5.122499</td>\n",
       "      <td>55.865926</td>\n",
       "      <td>0.300000</td>\n",
       "      <td>6.520000</td>\n",
       "    </tr>\n",
       "    <tr>\n",
       "      <th>max</th>\n",
       "      <td>1914.000000</td>\n",
       "      <td>5.000000</td>\n",
       "      <td>12.529964</td>\n",
       "      <td>173.552253</td>\n",
       "      <td>177.480000</td>\n",
       "      <td>459.720000</td>\n",
       "    </tr>\n",
       "  </tbody>\n",
       "</table>\n",
       "</div>"
      ],
      "text/plain": [
       "       num_peaks_rr0.25_md30_rl0.10  mean_height_rr0.25_md30_rl0.10  \\\n",
       "count                   8712.000000                     8141.000000   \n",
       "mean                     113.543159                        0.139162   \n",
       "std                      191.409626                        0.812962   \n",
       "min                        0.000000                       -6.500000   \n",
       "25%                       21.000000                       -0.166667   \n",
       "50%                       63.000000                        0.122093   \n",
       "75%                      127.000000                        0.500000   \n",
       "max                     1914.000000                        5.000000   \n",
       "\n",
       "       std_height_rr0.25_md30_rl0.10  std_width_rr0.25_md30_rl0.10  \\\n",
       "count                    8141.000000                   8141.000000   \n",
       "mean                        4.011674                     28.069526   \n",
       "std                         1.674391                     47.953667   \n",
       "min                         0.000000                      0.000000   \n",
       "25%                         3.043390                      0.206507   \n",
       "50%                         4.138245                      0.396707   \n",
       "75%                         5.122499                     55.865926   \n",
       "max                        12.529964                    173.552253   \n",
       "\n",
       "       percen_width_10_rr0.25_md30_rl0.10  percen_width_90_rr0.25_md30_rl0.10  \n",
       "count                         8141.000000                         8141.000000  \n",
       "mean                             9.106313                           70.843847  \n",
       "std                             28.047892                          128.330568  \n",
       "min                              0.119875                            0.157143  \n",
       "25%                              0.200000                            0.600000  \n",
       "50%                              0.219556                            1.047111  \n",
       "75%                              0.300000                            6.520000  \n",
       "max                            177.480000                          459.720000  "
      ]
     },
     "execution_count": 7,
     "metadata": {},
     "output_type": "execute_result"
    }
   ],
   "source": [
    "v21.describe()"
   ]
  },
  {
   "cell_type": "code",
   "execution_count": 8,
   "metadata": {},
   "outputs": [
    {
     "data": {
      "text/html": [
       "<div>\n",
       "<style scoped>\n",
       "    .dataframe tbody tr th:only-of-type {\n",
       "        vertical-align: middle;\n",
       "    }\n",
       "\n",
       "    .dataframe tbody tr th {\n",
       "        vertical-align: top;\n",
       "    }\n",
       "\n",
       "    .dataframe thead th {\n",
       "        text-align: right;\n",
       "    }\n",
       "</style>\n",
       "<table border=\"1\" class=\"dataframe\">\n",
       "  <thead>\n",
       "    <tr style=\"text-align: right;\">\n",
       "      <th></th>\n",
       "      <th>num_peaks_rr0.25_md30_rl0.10</th>\n",
       "      <th>mean_height_rr0.25_md30_rl0.10</th>\n",
       "      <th>std_height_rr0.25_md30_rl0.10</th>\n",
       "      <th>std_width_rr0.25_md30_rl0.10</th>\n",
       "      <th>percen_width_10_rr0.25_md30_rl0.10</th>\n",
       "      <th>percen_width_90_rr0.25_md30_rl0.10</th>\n",
       "    </tr>\n",
       "  </thead>\n",
       "  <tbody>\n",
       "    <tr>\n",
       "      <th>count</th>\n",
       "      <td>8712.000000</td>\n",
       "      <td>8710.000000</td>\n",
       "      <td>8710.000000</td>\n",
       "      <td>8.710000e+03</td>\n",
       "      <td>8710.000000</td>\n",
       "      <td>8710.000000</td>\n",
       "    </tr>\n",
       "    <tr>\n",
       "      <th>mean</th>\n",
       "      <td>7388.258494</td>\n",
       "      <td>0.076514</td>\n",
       "      <td>2.604415</td>\n",
       "      <td>1.743782e+00</td>\n",
       "      <td>0.594135</td>\n",
       "      <td>3.392018</td>\n",
       "    </tr>\n",
       "    <tr>\n",
       "      <th>std</th>\n",
       "      <td>6562.995958</td>\n",
       "      <td>0.237380</td>\n",
       "      <td>0.513074</td>\n",
       "      <td>1.995678e+00</td>\n",
       "      <td>0.174343</td>\n",
       "      <td>1.781047</td>\n",
       "    </tr>\n",
       "    <tr>\n",
       "      <th>min</th>\n",
       "      <td>0.000000</td>\n",
       "      <td>-2.000000</td>\n",
       "      <td>0.000000</td>\n",
       "      <td>4.365575e-11</td>\n",
       "      <td>0.197724</td>\n",
       "      <td>0.600000</td>\n",
       "    </tr>\n",
       "    <tr>\n",
       "      <th>25%</th>\n",
       "      <td>2027.000000</td>\n",
       "      <td>-0.021649</td>\n",
       "      <td>2.209179</td>\n",
       "      <td>6.997624e-01</td>\n",
       "      <td>0.400000</td>\n",
       "      <td>2.000000</td>\n",
       "    </tr>\n",
       "    <tr>\n",
       "      <th>50%</th>\n",
       "      <td>5589.500000</td>\n",
       "      <td>0.035621</td>\n",
       "      <td>2.443468</td>\n",
       "      <td>1.053231e+00</td>\n",
       "      <td>0.600000</td>\n",
       "      <td>2.800000</td>\n",
       "    </tr>\n",
       "    <tr>\n",
       "      <th>75%</th>\n",
       "      <td>10345.250000</td>\n",
       "      <td>0.116393</td>\n",
       "      <td>2.950378</td>\n",
       "      <td>2.143027e+00</td>\n",
       "      <td>0.800000</td>\n",
       "      <td>4.200000</td>\n",
       "    </tr>\n",
       "    <tr>\n",
       "      <th>max</th>\n",
       "      <td>36763.000000</td>\n",
       "      <td>2.000000</td>\n",
       "      <td>6.101953</td>\n",
       "      <td>6.634524e+01</td>\n",
       "      <td>1.200000</td>\n",
       "      <td>16.200000</td>\n",
       "    </tr>\n",
       "  </tbody>\n",
       "</table>\n",
       "</div>"
      ],
      "text/plain": [
       "       num_peaks_rr0.25_md30_rl0.10  mean_height_rr0.25_md30_rl0.10  \\\n",
       "count                   8712.000000                     8710.000000   \n",
       "mean                    7388.258494                        0.076514   \n",
       "std                     6562.995958                        0.237380   \n",
       "min                        0.000000                       -2.000000   \n",
       "25%                     2027.000000                       -0.021649   \n",
       "50%                     5589.500000                        0.035621   \n",
       "75%                    10345.250000                        0.116393   \n",
       "max                    36763.000000                        2.000000   \n",
       "\n",
       "       std_height_rr0.25_md30_rl0.10  std_width_rr0.25_md30_rl0.10  \\\n",
       "count                    8710.000000                  8.710000e+03   \n",
       "mean                        2.604415                  1.743782e+00   \n",
       "std                         0.513074                  1.995678e+00   \n",
       "min                         0.000000                  4.365575e-11   \n",
       "25%                         2.209179                  6.997624e-01   \n",
       "50%                         2.443468                  1.053231e+00   \n",
       "75%                         2.950378                  2.143027e+00   \n",
       "max                         6.101953                  6.634524e+01   \n",
       "\n",
       "       percen_width_10_rr0.25_md30_rl0.10  percen_width_90_rr0.25_md30_rl0.10  \n",
       "count                         8710.000000                         8710.000000  \n",
       "mean                             0.594135                            3.392018  \n",
       "std                              0.174343                            1.781047  \n",
       "min                              0.197724                            0.600000  \n",
       "25%                              0.400000                            2.000000  \n",
       "50%                              0.600000                            2.800000  \n",
       "75%                              0.800000                            4.200000  \n",
       "max                              1.200000                           16.200000  "
      ]
     },
     "execution_count": 8,
     "metadata": {},
     "output_type": "execute_result"
    }
   ],
   "source": [
    "v61.describe()"
   ]
  },
  {
   "cell_type": "code",
   "execution_count": 36,
   "metadata": {},
   "outputs": [
    {
     "data": {
      "text/html": [
       "<div>\n",
       "<style scoped>\n",
       "    .dataframe tbody tr th:only-of-type {\n",
       "        vertical-align: middle;\n",
       "    }\n",
       "\n",
       "    .dataframe tbody tr th {\n",
       "        vertical-align: top;\n",
       "    }\n",
       "\n",
       "    .dataframe thead th {\n",
       "        text-align: right;\n",
       "    }\n",
       "</style>\n",
       "<table border=\"1\" class=\"dataframe\">\n",
       "  <thead>\n",
       "    <tr style=\"text-align: right;\">\n",
       "      <th></th>\n",
       "      <th>num_peaks_rr0.25_md30_rl0.10</th>\n",
       "      <th>mean_height_rr0.25_md30_rl0.10</th>\n",
       "      <th>std_height_rr0.25_md30_rl0.10</th>\n",
       "      <th>std_width_rr0.25_md30_rl0.10</th>\n",
       "      <th>percen_width_10_rr0.25_md30_rl0.10</th>\n",
       "      <th>percen_width_90_rr0.25_md30_rl0.10</th>\n",
       "    </tr>\n",
       "  </thead>\n",
       "  <tbody>\n",
       "    <tr>\n",
       "      <th>0</th>\n",
       "      <td>119.0</td>\n",
       "      <td>-0.243697</td>\n",
       "      <td>4.342416</td>\n",
       "      <td>-1.546417</td>\n",
       "      <td>-1.545681</td>\n",
       "      <td>-0.510826</td>\n",
       "    </tr>\n",
       "    <tr>\n",
       "      <th>1</th>\n",
       "      <td>21.0</td>\n",
       "      <td>-0.619048</td>\n",
       "      <td>2.645323</td>\n",
       "      <td>-0.479573</td>\n",
       "      <td>-0.916291</td>\n",
       "      <td>0.459532</td>\n",
       "    </tr>\n",
       "    <tr>\n",
       "      <th>2</th>\n",
       "      <td>58.0</td>\n",
       "      <td>0.465517</td>\n",
       "      <td>4.005236</td>\n",
       "      <td>-1.675439</td>\n",
       "      <td>-1.491655</td>\n",
       "      <td>-0.584044</td>\n",
       "    </tr>\n",
       "    <tr>\n",
       "      <th>3</th>\n",
       "      <td>206.0</td>\n",
       "      <td>-0.038835</td>\n",
       "      <td>4.486057</td>\n",
       "      <td>-1.544585</td>\n",
       "      <td>-1.609438</td>\n",
       "      <td>-0.693147</td>\n",
       "    </tr>\n",
       "    <tr>\n",
       "      <th>4</th>\n",
       "      <td>129.0</td>\n",
       "      <td>0.542636</td>\n",
       "      <td>4.322302</td>\n",
       "      <td>-0.839055</td>\n",
       "      <td>-1.645806</td>\n",
       "      <td>0.220473</td>\n",
       "    </tr>\n",
       "  </tbody>\n",
       "</table>\n",
       "</div>"
      ],
      "text/plain": [
       "   num_peaks_rr0.25_md30_rl0.10  mean_height_rr0.25_md30_rl0.10  \\\n",
       "0                         119.0                       -0.243697   \n",
       "1                          21.0                       -0.619048   \n",
       "2                          58.0                        0.465517   \n",
       "3                         206.0                       -0.038835   \n",
       "4                         129.0                        0.542636   \n",
       "\n",
       "   std_height_rr0.25_md30_rl0.10  std_width_rr0.25_md30_rl0.10  \\\n",
       "0                       4.342416                     -1.546417   \n",
       "1                       2.645323                     -0.479573   \n",
       "2                       4.005236                     -1.675439   \n",
       "3                       4.486057                     -1.544585   \n",
       "4                       4.322302                     -0.839055   \n",
       "\n",
       "   percen_width_10_rr0.25_md30_rl0.10  percen_width_90_rr0.25_md30_rl0.10  \n",
       "0                           -1.545681                           -0.510826  \n",
       "1                           -0.916291                            0.459532  \n",
       "2                           -1.491655                           -0.584044  \n",
       "3                           -1.609438                           -0.693147  \n",
       "4                           -1.645806                            0.220473  "
      ]
     },
     "execution_count": 36,
     "metadata": {},
     "output_type": "execute_result"
    }
   ],
   "source": [
    "v21.head()"
   ]
  },
  {
   "cell_type": "code",
   "execution_count": 23,
   "metadata": {},
   "outputs": [
    {
     "name": "stderr",
     "output_type": "stream",
     "text": [
      "/home/lanfear/anaconda3/envs/tf_intro/lib/python3.6/site-packages/scipy/stats/stats.py:1713: FutureWarning: Using a non-tuple sequence for multidimensional indexing is deprecated; use `arr[tuple(seq)]` instead of `arr[seq]`. In the future this will be interpreted as an array index, `arr[np.array(seq)]`, which will result either in an error or a different result.\n",
      "  return np.add.reduce(sorted[indexer] * weights, axis=axis) / sumval\n"
     ]
    },
    {
     "data": {
      "image/png": "[encoded data removed]",
      "text/plain": [
       "<Figure size 864x864 with 6 Axes>"
      ]
     },
     "metadata": {
      "needs_background": "light"
     },
     "output_type": "display_data"
    }
   ],
   "source": [
    "fig, axs = plt.subplots(nrows=6, sharex=False, figsize=(12,12))\n",
    "for i in range(6):\n",
    "    sns.distplot(feats[:,i], kde=False, ax=axs[i])\n",
    "    axs[i].set_yscale('log')"
   ]
  },
  {
   "cell_type": "code",
   "execution_count": 3,
   "metadata": {},
   "outputs": [],
   "source": [
    "pp_db20_train = np.load('../preprocessed_data/pp_train_db20/pp_train_db20_0.npy')"
   ]
  },
  {
   "cell_type": "code",
   "execution_count": 38,
   "metadata": {},
   "outputs": [
    {
     "data": {
      "text/plain": [
       "(88, 800000)"
      ]
     },
     "execution_count": 38,
     "metadata": {},
     "output_type": "execute_result"
    }
   ],
   "source": [
    "pp_db20_train.shape"
   ]
  },
  {
   "cell_type": "code",
   "execution_count": 11,
   "metadata": {},
   "outputs": [
    {
     "ename": "NameError",
     "evalue": "name 'pp_db20_train' is not defined",
     "output_type": "error",
     "traceback": [
      "\u001b[0;31m---------------------------------------------------------------------------\u001b[0m",
      "\u001b[0;31mNameError\u001b[0m                                 Traceback (most recent call last)",
      "\u001b[0;32m<ipython-input-11-6f98511cbb22>\u001b[0m in \u001b[0;36m<module>\u001b[0;34m()\u001b[0m\n\u001b[1;32m      1\u001b[0m \u001b[0msamp_freq\u001b[0m \u001b[0;34m=\u001b[0m \u001b[0;36m10\u001b[0m\u001b[0;34m\u001b[0m\u001b[0;34m\u001b[0m\u001b[0m\n\u001b[1;32m      2\u001b[0m \u001b[0mfig\u001b[0m\u001b[0;34m,\u001b[0m \u001b[0max\u001b[0m \u001b[0;34m=\u001b[0m \u001b[0mplt\u001b[0m\u001b[0;34m.\u001b[0m\u001b[0msubplots\u001b[0m\u001b[0;34m(\u001b[0m\u001b[0mfigsize\u001b[0m\u001b[0;34m=\u001b[0m\u001b[0;34m(\u001b[0m\u001b[0;36m20\u001b[0m\u001b[0;34m,\u001b[0m\u001b[0;36m8\u001b[0m\u001b[0;34m)\u001b[0m\u001b[0;34m)\u001b[0m\u001b[0;34m\u001b[0m\u001b[0;34m\u001b[0m\u001b[0m\n\u001b[0;32m----> 3\u001b[0;31m \u001b[0;32mfor\u001b[0m \u001b[0mline\u001b[0m \u001b[0;32min\u001b[0m \u001b[0mpp_db20_train\u001b[0m\u001b[0;34m[\u001b[0m\u001b[0;34m:\u001b[0m\u001b[0;36m10\u001b[0m\u001b[0;34m,\u001b[0m\u001b[0;34m:\u001b[0m\u001b[0;34m]\u001b[0m\u001b[0;34m:\u001b[0m\u001b[0;34m\u001b[0m\u001b[0;34m\u001b[0m\u001b[0m\n\u001b[0m\u001b[1;32m      4\u001b[0m     \u001b[0mt\u001b[0m \u001b[0;34m=\u001b[0m \u001b[0mnp\u001b[0m\u001b[0;34m.\u001b[0m\u001b[0marange\u001b[0m\u001b[0;34m(\u001b[0m\u001b[0;36m0\u001b[0m\u001b[0;34m,\u001b[0m \u001b[0mpp_db20_train\u001b[0m\u001b[0;34m.\u001b[0m\u001b[0mshape\u001b[0m\u001b[0;34m[\u001b[0m\u001b[0;36m1\u001b[0m\u001b[0;34m]\u001b[0m\u001b[0;34m,\u001b[0m \u001b[0msamp_freq\u001b[0m\u001b[0;34m)\u001b[0m\u001b[0;34m\u001b[0m\u001b[0;34m\u001b[0m\u001b[0m\n\u001b[1;32m      5\u001b[0m     \u001b[0msns\u001b[0m\u001b[0;34m.\u001b[0m\u001b[0mlineplot\u001b[0m\u001b[0;34m(\u001b[0m\u001b[0mt\u001b[0m\u001b[0;34m,\u001b[0m \u001b[0mline\u001b[0m\u001b[0;34m[\u001b[0m\u001b[0;34m:\u001b[0m\u001b[0;34m:\u001b[0m\u001b[0msamp_freq\u001b[0m\u001b[0;34m]\u001b[0m\u001b[0;34m,\u001b[0m \u001b[0malpha\u001b[0m\u001b[0;34m=\u001b[0m\u001b[0;36m0.1\u001b[0m\u001b[0;34m,\u001b[0m \u001b[0mlinewidth\u001b[0m\u001b[0;34m=\u001b[0m\u001b[0;36m2\u001b[0m\u001b[0;34m,\u001b[0m \u001b[0max\u001b[0m\u001b[0;34m=\u001b[0m\u001b[0max\u001b[0m\u001b[0;34m)\u001b[0m\u001b[0;34m\u001b[0m\u001b[0;34m\u001b[0m\u001b[0m\n",
      "\u001b[0;31mNameError\u001b[0m: name 'pp_db20_train' is not defined"
     ]
    },
    {
     "data": {
      "image/png": "[encoded data removed]",
      "text/plain": [
       "<Figure size 1440x576 with 1 Axes>"
      ]
     },
     "metadata": {
      "needs_background": "light"
     },
     "output_type": "display_data"
    }
   ],
   "source": [
    "samp_freq = 10\n",
    "fig, ax = plt.subplots(figsize=(20,8))\n",
    "for line in pp_db20_train[:10,:]:\n",
    "    t = np.arange(0, pp_db20_train.shape[1], samp_freq)\n",
    "    sns.lineplot(t, line[::samp_freq], alpha=0.1, linewidth=2, ax=ax)"
   ]
  },
  {
   "cell_type": "code",
   "execution_count": 15,
   "metadata": {},
   "outputs": [],
   "source": [
    "fold = np.load('../other/eval_fold_2.npy')"
   ]
  },
  {
   "cell_type": "code",
   "execution_count": 17,
   "metadata": {},
   "outputs": [
    {
     "data": {
      "text/plain": [
       "(1742,)"
      ]
     },
     "execution_count": 17,
     "metadata": {},
     "output_type": "execute_result"
    }
   ],
   "source": [
    "fold.shape"
   ]
  },
  {
   "cell_type": "code",
   "execution_count": 8,
   "metadata": {},
   "outputs": [],
   "source": [
    "batch = np.load('../preprocessed_data/pp_train_db20_l0h0a/pp_train_db20_l0h0a_0.npy')"
   ]
  },
  {
   "cell_type": "code",
   "execution_count": 13,
   "metadata": {},
   "outputs": [
    {
     "data": {
      "image/png": "[encoded data removed]",
      "text/plain": [
       "<Figure size 1440x576 with 1 Axes>"
      ]
     },
     "metadata": {
      "needs_background": "light"
     },
     "output_type": "display_data"
    }
   ],
   "source": [
    "samp_freq = 10\n",
    "fig, ax = plt.subplots(figsize=(20,8))\n",
    "for line in batch[:1]:\n",
    "    t = np.arange(0, batch.shape[1], samp_freq)\n",
    "    sns.lineplot(t, line[::samp_freq], alpha=0.1, linewidth=2, ax=ax)"
   ]
  },
  {
   "cell_type": "code",
   "execution_count": 15,
   "metadata": {},
   "outputs": [
    {
     "data": {
      "text/plain": [
       "0"
      ]
     },
     "execution_count": 15,
     "metadata": {},
     "output_type": "execute_result"
    }
   ],
   "source": [
    "np.sum(np.isnan(line))"
   ]
  },
  {
   "cell_type": "code",
   "execution_count": 16,
   "metadata": {},
   "outputs": [],
   "source": [
    "np.save('../features_cnn/pp_train_db20_raw-feats_v2.npy', raw_feats.astype(np.float16))"
   ]
  },
  {
   "cell_type": "code",
   "execution_count": 9,
   "metadata": {},
   "outputs": [],
   "source": [
    "cnn_feats = np.load('../features_cnn/pp_test_db20_cnn-feats_v1.npy')"
   ]
  },
  {
   "cell_type": "code",
   "execution_count": 12,
   "metadata": {},
   "outputs": [
    {
     "data": {
      "text/plain": [
       "((20337, 11, 1000), dtype('float64'), 223707000)"
      ]
     },
     "execution_count": 12,
     "metadata": {},
     "output_type": "execute_result"
    }
   ],
   "source": [
    "cnn_feats.shape, cnn_feats.dtype, cnn_feats.size"
   ]
  },
  {
   "cell_type": "code",
   "execution_count": 13,
   "metadata": {},
   "outputs": [
    {
     "data": {
      "text/plain": [
       "195180550"
      ]
     },
     "execution_count": 13,
     "metadata": {},
     "output_type": "execute_result"
    }
   ],
   "source": [
    "np.sum(np.isnan(cnn_feats))"
   ]
  },
  {
   "cell_type": "code",
   "execution_count": 11,
   "metadata": {},
   "outputs": [],
   "source": [
    "# Load metadata as well\n",
    "meta_train, meta_test = pd.read_csv('../data/metadata_train.csv'), pd.read_csv('../data/metadata_test.csv')\n",
    "\n",
    "# Load oof preds\n",
    "oof_preds = pd.read_hdf('../level_1_preds/lgbm_v23_0.6609_pp_oof.h5').values[:, 0]\n",
    "\n",
    "# Get target\n",
    "target = meta_train['target'].values"
   ]
  },
  {
   "cell_type": "code",
   "execution_count": 12,
   "metadata": {},
   "outputs": [
    {
     "data": {
      "text/plain": [
       "0    8187\n",
       "1     525\n",
       "dtype: int64"
      ]
     },
     "execution_count": 12,
     "metadata": {},
     "output_type": "execute_result"
    }
   ],
   "source": [
    "pd.Series(target).value_counts()"
   ]
  },
  {
   "cell_type": "code",
   "execution_count": 5,
   "metadata": {},
   "outputs": [],
   "source": [
    "train_feats = pd.read_hdf('../features/pp_train_db20_base-feats_v1_jan14.h5')"
   ]
  },
  {
   "cell_type": "code",
   "execution_count": 5,
   "metadata": {},
   "outputs": [
    {
     "data": {
      "text/plain": [
       "array([0, 1, 1, 1, 1, 1, 1, 0, 0])"
      ]
     },
     "execution_count": 5,
     "metadata": {},
     "output_type": "execute_result"
    }
   ],
   "source": [
    "pd.read_csv('../data/metadata_train.csv')['target'].values[704:713]"
   ]
  },
  {
   "cell_type": "code",
   "execution_count": 21,
   "metadata": {
    "scrolled": true
   },
   "outputs": [
    {
     "data": {
      "image/png": "[encoded data removed]",
      "text/plain": [
       "<Figure size 432x432 with 2 Axes>"
      ]
     },
     "metadata": {
      "needs_background": "light"
     },
     "output_type": "display_data"
    }
   ],
   "source": [
    "import matplotlib.pyplot as plt\n",
    "\n",
    "# Load demo raw signals\n",
    "import glob\n",
    "nsigs=145\n",
    "demo_raw = np.vstack([np.load(p) for p in sorted(glob.glob('../data/demo_chunks/*'))]).astype(np.int8)[nsigs:nsigs+4,:]\n",
    "demo_pp = np.vstack([np.load(p) for p in sorted(glob.glob('../preprocessed_data/pp_demo_db20/*'))]).astype(np.int8)[nsigs:nsigs+4,:]\n",
    "\n",
    "f, axs = plt.subplots(2, 1, sharex=True, sharey=False, figsize=(3*2, 3*2))\n",
    "\n",
    "subfreq = 20\n",
    "t = np.arange(0, demo_pp.shape[1], subfreq)\n",
    "for i,(rs, pps) in enumerate(zip(demo_raw, demo_pp)):\n",
    "    i *= 2                         \n",
    "    axs[0].plot(t, rs[::subfreq], alpha=0.10, c=(1,0.5,0.5))\n",
    "    axs[1].plot(t, pps[::subfreq], alpha=0.90, c=(0.8,0.8,1.0))          "
   ]
  },
  {
   "cell_type": "code",
   "execution_count": 52,
   "metadata": {},
   "outputs": [
    {
     "data": {
      "text/plain": [
       "count    800000.000000\n",
       "mean         -1.012639\n",
       "std          13.621458\n",
       "min         -33.000000\n",
       "25%         -14.000000\n",
       "50%          -1.000000\n",
       "75%          12.000000\n",
       "max          25.000000\n",
       "dtype: float64"
      ]
     },
     "execution_count": 52,
     "metadata": {},
     "output_type": "execute_result"
    }
   ],
   "source": [
    "pd.Series(demo_raw[114,:]).describe()"
   ]
  },
  {
   "cell_type": "code",
   "execution_count": 2,
   "metadata": {},
   "outputs": [],
   "source": [
    "tf = np.load('../features_cnn/pp_train_db20_raw-feats_v2.npy')"
   ]
  },
  {
   "cell_type": "code",
   "execution_count": 6,
   "metadata": {},
   "outputs": [
    {
     "data": {
      "image/png": "[encoded data removed]",
      "text/plain": [
       "<Figure size 432x288 with 1 Axes>"
      ]
     },
     "metadata": {
      "needs_background": "light"
     },
     "output_type": "display_data"
    }
   ],
   "source": [
    "for line in np.squeeze(tf[:5,1,:]):\n",
    "    t = np.arange(0, tf.shape[2], 1)\n",
    "    sns.lineplot(t, line, alpha=0.3, linewidth=2)"
   ]
  },
  {
   "cell_type": "code",
   "execution_count": null,
   "metadata": {},
   "outputs": [],
   "source": []
  },
  {
   "cell_type": "code",
   "execution_count": null,
   "metadata": {},
   "outputs": [],
   "source": []
  },
  {
   "cell_type": "code",
   "execution_count": 2,
   "metadata": {},
   "outputs": [],
   "source": [
    "import pandas as pd\n",
    "base_feats = pd.read_hdf('../features/pp_train_db20_base-feats_v7_jan21.h5')"
   ]
  },
  {
   "cell_type": "code",
   "execution_count": 3,
   "metadata": {},
   "outputs": [
    {
     "data": {
      "text/html": [
       "<div>\n",
       "<style scoped>\n",
       "    .dataframe tbody tr th:only-of-type {\n",
       "        vertical-align: middle;\n",
       "    }\n",
       "\n",
       "    .dataframe tbody tr th {\n",
       "        vertical-align: top;\n",
       "    }\n",
       "\n",
       "    .dataframe thead th {\n",
       "        text-align: right;\n",
       "    }\n",
       "</style>\n",
       "<table border=\"1\" class=\"dataframe\">\n",
       "  <thead>\n",
       "    <tr style=\"text-align: right;\">\n",
       "      <th></th>\n",
       "      <th>num_peaks</th>\n",
       "      <th>mean_height</th>\n",
       "      <th>max_height</th>\n",
       "      <th>min_height</th>\n",
       "      <th>mean_width</th>\n",
       "      <th>max_width</th>\n",
       "      <th>min_width</th>\n",
       "      <th>std_width</th>\n",
       "    </tr>\n",
       "  </thead>\n",
       "  <tbody>\n",
       "    <tr>\n",
       "      <th>0</th>\n",
       "      <td>23.0</td>\n",
       "      <td>0.478261</td>\n",
       "      <td>6.0</td>\n",
       "      <td>-4.0</td>\n",
       "      <td>830.704705</td>\n",
       "      <td>10740.625000</td>\n",
       "      <td>1.000000</td>\n",
       "      <td>2325.139040</td>\n",
       "    </tr>\n",
       "    <tr>\n",
       "      <th>1</th>\n",
       "      <td>9.0</td>\n",
       "      <td>0.444444</td>\n",
       "      <td>1.0</td>\n",
       "      <td>-2.0</td>\n",
       "      <td>1736.555556</td>\n",
       "      <td>15609.000000</td>\n",
       "      <td>2.000000</td>\n",
       "      <td>4904.649792</td>\n",
       "    </tr>\n",
       "    <tr>\n",
       "      <th>2</th>\n",
       "      <td>41.0</td>\n",
       "      <td>0.439024</td>\n",
       "      <td>5.0</td>\n",
       "      <td>-2.0</td>\n",
       "      <td>1079.960128</td>\n",
       "      <td>6657.916667</td>\n",
       "      <td>1.000000</td>\n",
       "      <td>1788.541750</td>\n",
       "    </tr>\n",
       "    <tr>\n",
       "      <th>3</th>\n",
       "      <td>60.0</td>\n",
       "      <td>-0.216667</td>\n",
       "      <td>6.0</td>\n",
       "      <td>-14.0</td>\n",
       "      <td>1626.497022</td>\n",
       "      <td>33856.875000</td>\n",
       "      <td>0.866667</td>\n",
       "      <td>4883.489134</td>\n",
       "    </tr>\n",
       "    <tr>\n",
       "      <th>4</th>\n",
       "      <td>41.0</td>\n",
       "      <td>0.073171</td>\n",
       "      <td>5.0</td>\n",
       "      <td>-7.0</td>\n",
       "      <td>1572.907404</td>\n",
       "      <td>41682.000000</td>\n",
       "      <td>0.625000</td>\n",
       "      <td>6555.521185</td>\n",
       "    </tr>\n",
       "  </tbody>\n",
       "</table>\n",
       "</div>"
      ],
      "text/plain": [
       "   num_peaks  mean_height  max_height  min_height   mean_width     max_width  \\\n",
       "0       23.0     0.478261         6.0        -4.0   830.704705  10740.625000   \n",
       "1        9.0     0.444444         1.0        -2.0  1736.555556  15609.000000   \n",
       "2       41.0     0.439024         5.0        -2.0  1079.960128   6657.916667   \n",
       "3       60.0    -0.216667         6.0       -14.0  1626.497022  33856.875000   \n",
       "4       41.0     0.073171         5.0        -7.0  1572.907404  41682.000000   \n",
       "\n",
       "   min_width    std_width  \n",
       "0   1.000000  2325.139040  \n",
       "1   2.000000  4904.649792  \n",
       "2   1.000000  1788.541750  \n",
       "3   0.866667  4883.489134  \n",
       "4   0.625000  6555.521185  "
      ]
     },
     "execution_count": 3,
     "metadata": {},
     "output_type": "execute_result"
    }
   ],
   "source": [
    "base_feats.head()"
   ]
  },
  {
   "cell_type": "code",
   "execution_count": 4,
   "metadata": {},
   "outputs": [],
   "source": [
    "base_feats_2 = pd.read_hdf('../features/pp_train_db20_base-feats_v9_jan22_4band.h5')"
   ]
  },
  {
   "cell_type": "code",
   "execution_count": 6,
   "metadata": {},
   "outputs": [
    {
     "data": {
      "text/html": [
       "<div>\n",
       "<style scoped>\n",
       "    .dataframe tbody tr th:only-of-type {\n",
       "        vertical-align: middle;\n",
       "    }\n",
       "\n",
       "    .dataframe tbody tr th {\n",
       "        vertical-align: top;\n",
       "    }\n",
       "\n",
       "    .dataframe thead th {\n",
       "        text-align: right;\n",
       "    }\n",
       "</style>\n",
       "<table border=\"1\" class=\"dataframe\">\n",
       "  <thead>\n",
       "    <tr style=\"text-align: right;\">\n",
       "      <th></th>\n",
       "      <th>num_peaks_0</th>\n",
       "      <th>mean_height_0</th>\n",
       "      <th>std_height_0</th>\n",
       "      <th>mean_width_0</th>\n",
       "      <th>max_width_0</th>\n",
       "      <th>std_width_0</th>\n",
       "      <th>num_peaks_1</th>\n",
       "      <th>mean_height_1</th>\n",
       "      <th>std_height_1</th>\n",
       "      <th>mean_width_1</th>\n",
       "      <th>max_width_1</th>\n",
       "      <th>std_width_1</th>\n",
       "      <th>num_peaks_2</th>\n",
       "      <th>mean_height_2</th>\n",
       "      <th>std_height_2</th>\n",
       "      <th>mean_width_2</th>\n",
       "      <th>max_width_2</th>\n",
       "      <th>std_width_2</th>\n",
       "      <th>num_peaks_3</th>\n",
       "      <th>mean_height_3</th>\n",
       "    </tr>\n",
       "  </thead>\n",
       "  <tbody>\n",
       "    <tr>\n",
       "      <th>0</th>\n",
       "      <td>1.0</td>\n",
       "      <td>1.000000</td>\n",
       "      <td>0.000000</td>\n",
       "      <td>10740.625000</td>\n",
       "      <td>10740.625</td>\n",
       "      <td>0.000000</td>\n",
       "      <td>2.0</td>\n",
       "      <td>1.0</td>\n",
       "      <td>0.000000</td>\n",
       "      <td>2.000000</td>\n",
       "      <td>2.000000</td>\n",
       "      <td>0.000000</td>\n",
       "      <td>18.0</td>\n",
       "      <td>0.333333</td>\n",
       "      <td>2.403701</td>\n",
       "      <td>464.253388</td>\n",
       "      <td>3311.750000</td>\n",
       "      <td>1079.486935</td>\n",
       "      <td>2.0</td>\n",
       "      <td>1.000000</td>\n",
       "    </tr>\n",
       "    <tr>\n",
       "      <th>1</th>\n",
       "      <td>0.0</td>\n",
       "      <td>NaN</td>\n",
       "      <td>NaN</td>\n",
       "      <td>NaN</td>\n",
       "      <td>NaN</td>\n",
       "      <td>NaN</td>\n",
       "      <td>1.0</td>\n",
       "      <td>1.0</td>\n",
       "      <td>0.000000</td>\n",
       "      <td>3.000000</td>\n",
       "      <td>3.000000</td>\n",
       "      <td>0.000000</td>\n",
       "      <td>2.0</td>\n",
       "      <td>1.000000</td>\n",
       "      <td>0.000000</td>\n",
       "      <td>7805.500000</td>\n",
       "      <td>15609.000000</td>\n",
       "      <td>7803.500000</td>\n",
       "      <td>6.0</td>\n",
       "      <td>0.166667</td>\n",
       "    </tr>\n",
       "    <tr>\n",
       "      <th>2</th>\n",
       "      <td>2.0</td>\n",
       "      <td>0.000000</td>\n",
       "      <td>1.000000</td>\n",
       "      <td>1.500000</td>\n",
       "      <td>2.000</td>\n",
       "      <td>0.500000</td>\n",
       "      <td>2.0</td>\n",
       "      <td>-0.5</td>\n",
       "      <td>1.500000</td>\n",
       "      <td>2.166667</td>\n",
       "      <td>2.333333</td>\n",
       "      <td>0.166667</td>\n",
       "      <td>34.0</td>\n",
       "      <td>0.558824</td>\n",
       "      <td>2.031968</td>\n",
       "      <td>1301.926592</td>\n",
       "      <td>6657.916667</td>\n",
       "      <td>1889.152879</td>\n",
       "      <td>3.0</td>\n",
       "      <td>0.000000</td>\n",
       "    </tr>\n",
       "    <tr>\n",
       "      <th>3</th>\n",
       "      <td>47.0</td>\n",
       "      <td>-0.468085</td>\n",
       "      <td>3.009567</td>\n",
       "      <td>825.758610</td>\n",
       "      <td>11753.000</td>\n",
       "      <td>1960.842958</td>\n",
       "      <td>4.0</td>\n",
       "      <td>1.0</td>\n",
       "      <td>0.000000</td>\n",
       "      <td>13300.502083</td>\n",
       "      <td>33856.875000</td>\n",
       "      <td>12757.608255</td>\n",
       "      <td>6.0</td>\n",
       "      <td>0.333333</td>\n",
       "      <td>1.490712</td>\n",
       "      <td>784.126389</td>\n",
       "      <td>4144.600000</td>\n",
       "      <td>1516.260135</td>\n",
       "      <td>3.0</td>\n",
       "      <td>1.000000</td>\n",
       "    </tr>\n",
       "    <tr>\n",
       "      <th>4</th>\n",
       "      <td>32.0</td>\n",
       "      <td>0.281250</td>\n",
       "      <td>1.824047</td>\n",
       "      <td>522.897359</td>\n",
       "      <td>7141.000</td>\n",
       "      <td>1586.859755</td>\n",
       "      <td>8.0</td>\n",
       "      <td>-1.0</td>\n",
       "      <td>2.645751</td>\n",
       "      <td>5969.227679</td>\n",
       "      <td>41682.000000</td>\n",
       "      <td>13642.863645</td>\n",
       "      <td>1.0</td>\n",
       "      <td>2.000000</td>\n",
       "      <td>0.000000</td>\n",
       "      <td>2.000000</td>\n",
       "      <td>2.000000</td>\n",
       "      <td>0.000000</td>\n",
       "      <td>0.0</td>\n",
       "      <td>NaN</td>\n",
       "    </tr>\n",
       "  </tbody>\n",
       "</table>\n",
       "</div>"
      ],
      "text/plain": [
       "   num_peaks_0  mean_height_0  std_height_0  mean_width_0  max_width_0  \\\n",
       "0          1.0       1.000000      0.000000  10740.625000    10740.625   \n",
       "1          0.0            NaN           NaN           NaN          NaN   \n",
       "2          2.0       0.000000      1.000000      1.500000        2.000   \n",
       "3         47.0      -0.468085      3.009567    825.758610    11753.000   \n",
       "4         32.0       0.281250      1.824047    522.897359     7141.000   \n",
       "\n",
       "   std_width_0  num_peaks_1  mean_height_1  std_height_1  mean_width_1  \\\n",
       "0     0.000000          2.0            1.0      0.000000      2.000000   \n",
       "1          NaN          1.0            1.0      0.000000      3.000000   \n",
       "2     0.500000          2.0           -0.5      1.500000      2.166667   \n",
       "3  1960.842958          4.0            1.0      0.000000  13300.502083   \n",
       "4  1586.859755          8.0           -1.0      2.645751   5969.227679   \n",
       "\n",
       "    max_width_1   std_width_1  num_peaks_2  mean_height_2  std_height_2  \\\n",
       "0      2.000000      0.000000         18.0       0.333333      2.403701   \n",
       "1      3.000000      0.000000          2.0       1.000000      0.000000   \n",
       "2      2.333333      0.166667         34.0       0.558824      2.031968   \n",
       "3  33856.875000  12757.608255          6.0       0.333333      1.490712   \n",
       "4  41682.000000  13642.863645          1.0       2.000000      0.000000   \n",
       "\n",
       "   mean_width_2   max_width_2  std_width_2  num_peaks_3  mean_height_3  \n",
       "0    464.253388   3311.750000  1079.486935          2.0       1.000000  \n",
       "1   7805.500000  15609.000000  7803.500000          6.0       0.166667  \n",
       "2   1301.926592   6657.916667  1889.152879          3.0       0.000000  \n",
       "3    784.126389   4144.600000  1516.260135          3.0       1.000000  \n",
       "4      2.000000      2.000000     0.000000          0.0            NaN  "
      ]
     },
     "execution_count": 6,
     "metadata": {},
     "output_type": "execute_result"
    }
   ],
   "source": [
    "base_feats_2.iloc[:5,0:20]"
   ]
  },
  {
   "cell_type": "code",
   "execution_count": 34,
   "metadata": {},
   "outputs": [],
   "source": [
    "# load subs\n",
    "sub_1 = pd.read_csv('../submissions/lgbm_v13_single_base_0.6139.csv')\n",
    "sub_2 = pd.read_csv('../submissions/lgbm_stack_v1_0.6139.csv').values"
   ]
  },
  {
   "cell_type": "code",
   "execution_count": 7,
   "metadata": {},
   "outputs": [
    {
     "data": {
      "text/plain": [
       "0"
      ]
     },
     "execution_count": 7,
     "metadata": {},
     "output_type": "execute_result"
    }
   ],
   "source": [
    "np.sum(sub_1[:,1] - sub_2[:,1])"
   ]
  },
  {
   "cell_type": "code",
   "execution_count": 10,
   "metadata": {},
   "outputs": [],
   "source": [
    "sub_1['id'] = np.repeat(np.arange(0, int(sub_1.shape[0]/3)), 3)"
   ]
  },
  {
   "cell_type": "code",
   "execution_count": 13,
   "metadata": {},
   "outputs": [
    {
     "data": {
      "text/plain": [
       "0    6385\n",
       "1     188\n",
       "2     132\n",
       "3      74\n",
       "Name: target, dtype: int64"
      ]
     },
     "execution_count": 13,
     "metadata": {},
     "output_type": "execute_result"
    }
   ],
   "source": [
    "sub_1.groupby('id')['target'].sum().value_counts()"
   ]
  },
  {
   "cell_type": "code",
   "execution_count": 36,
   "metadata": {},
   "outputs": [
    {
     "data": {
      "text/plain": [
       "674"
      ]
     },
     "execution_count": 36,
     "metadata": {},
     "output_type": "execute_result"
    }
   ],
   "source": [
    "raw_target = sub_1.values[:,1]\n",
    "np.sum(raw_target)"
   ]
  },
  {
   "cell_type": "code",
   "execution_count": 37,
   "metadata": {},
   "outputs": [],
   "source": [
    "num_lines = int(sub_1.shape[0]/3)\n",
    "for line in range(num_lines):\n",
    "    first_phase = line * 3\n",
    "    if np.sum(raw_target[first_phase:first_phase+3]) > 1:\n",
    "        raw_target[first_phase:first_phase+3] = 1"
   ]
  },
  {
   "cell_type": "code",
   "execution_count": 38,
   "metadata": {},
   "outputs": [
    {
     "data": {
      "text/plain": [
       "806"
      ]
     },
     "execution_count": 38,
     "metadata": {},
     "output_type": "execute_result"
    }
   ],
   "source": [
    "np.sum(raw_target)"
   ]
  },
  {
   "cell_type": "code",
   "execution_count": 40,
   "metadata": {},
   "outputs": [],
   "source": [
    "# lets see\n",
    "sub_1['target'] = raw_target"
   ]
  },
  {
   "cell_type": "code",
   "execution_count": 41,
   "metadata": {},
   "outputs": [],
   "source": [
    "sub_1.to_csv('../submissions/postproc_betatest.csv', index=False)"
   ]
  },
  {
   "cell_type": "code",
   "execution_count": 63,
   "metadata": {},
   "outputs": [],
   "source": [
    "a = pd.read_hdf('../level_1_preds/lgbm_v13r_v2_0.5567_test.h5')"
   ]
  },
  {
   "cell_type": "code",
   "execution_count": 3,
   "metadata": {},
   "outputs": [],
   "source": [
    "sub_nopp = pd.read_csv('../submissions/lgbm_v23_0.6185.csv')\n",
    "sub_pp = pd.read_csv('../submissions/lgbm_v23_0.6630_pp.csv')"
   ]
  },
  {
   "cell_type": "code",
   "execution_count": 9,
   "metadata": {},
   "outputs": [],
   "source": [
    "nopp = np.reshape(sub_nopp['target'].values, newshape=(int(sub_nopp.shape[0]/3),-1))\n",
    "pp = np.reshape(sub_pp['target'].values, newshape=(int(sub_pp.shape[0]/3),-1))"
   ]
  },
  {
   "cell_type": "code",
   "execution_count": 13,
   "metadata": {},
   "outputs": [
    {
     "data": {
      "text/plain": [
       "0    0.923883\n",
       "1    0.032011\n",
       "2    0.027585\n",
       "3    0.016522\n",
       "dtype: float64"
      ]
     },
     "execution_count": 13,
     "metadata": {},
     "output_type": "execute_result"
    }
   ],
   "source": [
    "pd.Series(np.sum(nopp, axis=1)).value_counts() / pd.Series(np.sum(nopp, axis=1)).value_counts().sum()"
   ]
  },
  {
   "cell_type": "code",
   "execution_count": 14,
   "metadata": {},
   "outputs": [
    {
     "data": {
      "text/plain": [
       "0    0.923883\n",
       "3    0.044107\n",
       "1    0.032011\n",
       "dtype: float64"
      ]
     },
     "execution_count": 14,
     "metadata": {},
     "output_type": "execute_result"
    }
   ],
   "source": [
    "pd.Series(np.sum(pp, axis=1)).value_counts() / pd.Series(np.sum(pp, axis=1)).value_counts().sum()"
   ]
  },
  {
   "cell_type": "code",
   "execution_count": 70,
   "metadata": {},
   "outputs": [
    {
     "data": {
      "text/plain": [
       "<matplotlib.axes._subplots.AxesSubplot at 0x1a1f3ebb70>"
      ]
     },
     "execution_count": 70,
     "metadata": {},
     "output_type": "execute_result"
    },
    {
     "data": {
      "image/png": "[encoded data removed]",
      "text/plain": [
       "<Figure size 432x288 with 1 Axes>"
      ]
     },
     "metadata": {
      "needs_background": "light"
     },
     "output_type": "display_data"
    }
   ],
   "source": [
    "sns.distplot(nt['target'], kde=False, bins=np.linspace(0,1,10))"
   ]
  },
  {
   "cell_type": "code",
   "execution_count": 16,
   "metadata": {},
   "outputs": [],
   "source": [
    "v16_feats = pd.read_hdf('../features/pp_train_db20_base-feats_v16.h5')"
   ]
  },
  {
   "cell_type": "code",
   "execution_count": 74,
   "metadata": {},
   "outputs": [
    {
     "data": {
      "text/html": [
       "<div>\n",
       "<style scoped>\n",
       "    .dataframe tbody tr th:only-of-type {\n",
       "        vertical-align: middle;\n",
       "    }\n",
       "\n",
       "    .dataframe tbody tr th {\n",
       "        vertical-align: top;\n",
       "    }\n",
       "\n",
       "    .dataframe thead th {\n",
       "        text-align: right;\n",
       "    }\n",
       "</style>\n",
       "<table border=\"1\" class=\"dataframe\">\n",
       "  <thead>\n",
       "    <tr style=\"text-align: right;\">\n",
       "      <th></th>\n",
       "      <th>num_peaks_rr0.25_md30_rl0.10</th>\n",
       "      <th>mean_height_rr0.25_md30_rl0.10</th>\n",
       "      <th>std_height_rr0.25_md30_rl0.10</th>\n",
       "      <th>mean_width_rr0.25_md30_rl0.10</th>\n",
       "      <th>std_width_rr0.25_md30_rl0.10</th>\n",
       "      <th>percen_width_10_rr0.25_md30_rl0.10</th>\n",
       "      <th>percen_width_90_rr0.25_md30_rl0.10</th>\n",
       "    </tr>\n",
       "  </thead>\n",
       "  <tbody>\n",
       "    <tr>\n",
       "      <th>count</th>\n",
       "      <td>8712.000000</td>\n",
       "      <td>8141.000000</td>\n",
       "      <td>8141.000000</td>\n",
       "      <td>8141.000000</td>\n",
       "      <td>8141.000000</td>\n",
       "      <td>8141.000000</td>\n",
       "      <td>8141.000000</td>\n",
       "    </tr>\n",
       "    <tr>\n",
       "      <th>mean</th>\n",
       "      <td>113.543159</td>\n",
       "      <td>0.139162</td>\n",
       "      <td>4.011674</td>\n",
       "      <td>33.827199</td>\n",
       "      <td>28.069526</td>\n",
       "      <td>9.106313</td>\n",
       "      <td>70.843847</td>\n",
       "    </tr>\n",
       "    <tr>\n",
       "      <th>std</th>\n",
       "      <td>191.409626</td>\n",
       "      <td>0.812962</td>\n",
       "      <td>1.674391</td>\n",
       "      <td>69.065036</td>\n",
       "      <td>47.953667</td>\n",
       "      <td>28.047892</td>\n",
       "      <td>128.330568</td>\n",
       "    </tr>\n",
       "    <tr>\n",
       "      <th>min</th>\n",
       "      <td>0.000000</td>\n",
       "      <td>-6.500000</td>\n",
       "      <td>0.000000</td>\n",
       "      <td>0.157143</td>\n",
       "      <td>0.000000</td>\n",
       "      <td>0.119875</td>\n",
       "      <td>0.157143</td>\n",
       "    </tr>\n",
       "    <tr>\n",
       "      <th>25%</th>\n",
       "      <td>21.000000</td>\n",
       "      <td>-0.166667</td>\n",
       "      <td>3.043390</td>\n",
       "      <td>0.391555</td>\n",
       "      <td>0.206507</td>\n",
       "      <td>0.200000</td>\n",
       "      <td>0.600000</td>\n",
       "    </tr>\n",
       "    <tr>\n",
       "      <th>50%</th>\n",
       "      <td>63.000000</td>\n",
       "      <td>0.122093</td>\n",
       "      <td>4.138245</td>\n",
       "      <td>0.582559</td>\n",
       "      <td>0.396707</td>\n",
       "      <td>0.219556</td>\n",
       "      <td>1.047111</td>\n",
       "    </tr>\n",
       "    <tr>\n",
       "      <th>75%</th>\n",
       "      <td>127.000000</td>\n",
       "      <td>0.500000</td>\n",
       "      <td>5.122499</td>\n",
       "      <td>14.523592</td>\n",
       "      <td>55.865926</td>\n",
       "      <td>0.300000</td>\n",
       "      <td>6.520000</td>\n",
       "    </tr>\n",
       "    <tr>\n",
       "      <th>max</th>\n",
       "      <td>1914.000000</td>\n",
       "      <td>5.000000</td>\n",
       "      <td>12.529964</td>\n",
       "      <td>273.200000</td>\n",
       "      <td>173.552253</td>\n",
       "      <td>177.480000</td>\n",
       "      <td>459.720000</td>\n",
       "    </tr>\n",
       "  </tbody>\n",
       "</table>\n",
       "</div>"
      ],
      "text/plain": [
       "       num_peaks_rr0.25_md30_rl0.10  mean_height_rr0.25_md30_rl0.10  \\\n",
       "count                   8712.000000                     8141.000000   \n",
       "mean                     113.543159                        0.139162   \n",
       "std                      191.409626                        0.812962   \n",
       "min                        0.000000                       -6.500000   \n",
       "25%                       21.000000                       -0.166667   \n",
       "50%                       63.000000                        0.122093   \n",
       "75%                      127.000000                        0.500000   \n",
       "max                     1914.000000                        5.000000   \n",
       "\n",
       "       std_height_rr0.25_md30_rl0.10  mean_width_rr0.25_md30_rl0.10  \\\n",
       "count                    8141.000000                    8141.000000   \n",
       "mean                        4.011674                      33.827199   \n",
       "std                         1.674391                      69.065036   \n",
       "min                         0.000000                       0.157143   \n",
       "25%                         3.043390                       0.391555   \n",
       "50%                         4.138245                       0.582559   \n",
       "75%                         5.122499                      14.523592   \n",
       "max                        12.529964                     273.200000   \n",
       "\n",
       "       std_width_rr0.25_md30_rl0.10  percen_width_10_rr0.25_md30_rl0.10  \\\n",
       "count                   8141.000000                         8141.000000   \n",
       "mean                      28.069526                            9.106313   \n",
       "std                       47.953667                           28.047892   \n",
       "min                        0.000000                            0.119875   \n",
       "25%                        0.206507                            0.200000   \n",
       "50%                        0.396707                            0.219556   \n",
       "75%                       55.865926                            0.300000   \n",
       "max                      173.552253                          177.480000   \n",
       "\n",
       "       percen_width_90_rr0.25_md30_rl0.10  \n",
       "count                         8141.000000  \n",
       "mean                            70.843847  \n",
       "std                            128.330568  \n",
       "min                              0.157143  \n",
       "25%                              0.600000  \n",
       "50%                              1.047111  \n",
       "75%                              6.520000  \n",
       "max                            459.720000  "
      ]
     },
     "execution_count": 74,
     "metadata": {},
     "output_type": "execute_result"
    }
   ],
   "source": [
    "v16_feats.describe()"
   ]
  },
  {
   "cell_type": "code",
   "execution_count": 75,
   "metadata": {},
   "outputs": [
    {
     "data": {
      "text/plain": [
       "(8712, 7)"
      ]
     },
     "execution_count": 75,
     "metadata": {},
     "output_type": "execute_result"
    }
   ],
   "source": [
    "v16_feats.shape"
   ]
  },
  {
   "cell_type": "code",
   "execution_count": 76,
   "metadata": {},
   "outputs": [
    {
     "data": {
      "text/html": [
       "<div>\n",
       "<style scoped>\n",
       "    .dataframe tbody tr th:only-of-type {\n",
       "        vertical-align: middle;\n",
       "    }\n",
       "\n",
       "    .dataframe tbody tr th {\n",
       "        vertical-align: top;\n",
       "    }\n",
       "\n",
       "    .dataframe thead th {\n",
       "        text-align: right;\n",
       "    }\n",
       "</style>\n",
       "<table border=\"1\" class=\"dataframe\">\n",
       "  <thead>\n",
       "    <tr style=\"text-align: right;\">\n",
       "      <th></th>\n",
       "      <th>num_peaks_rr0.25_md30_rl0.10</th>\n",
       "      <th>mean_height_rr0.25_md30_rl0.10</th>\n",
       "      <th>std_height_rr0.25_md30_rl0.10</th>\n",
       "      <th>mean_width_rr0.25_md30_rl0.10</th>\n",
       "      <th>std_width_rr0.25_md30_rl0.10</th>\n",
       "      <th>percen_width_10_rr0.25_md30_rl0.10</th>\n",
       "      <th>percen_width_90_rr0.25_md30_rl0.10</th>\n",
       "    </tr>\n",
       "  </thead>\n",
       "  <tbody>\n",
       "    <tr>\n",
       "      <th>0</th>\n",
       "      <td>119.0</td>\n",
       "      <td>-0.243697</td>\n",
       "      <td>4.342416</td>\n",
       "      <td>0.383346</td>\n",
       "      <td>0.213010</td>\n",
       "      <td>0.213167</td>\n",
       "      <td>0.600000</td>\n",
       "    </tr>\n",
       "    <tr>\n",
       "      <th>1</th>\n",
       "      <td>21.0</td>\n",
       "      <td>-0.619048</td>\n",
       "      <td>2.645323</td>\n",
       "      <td>0.900794</td>\n",
       "      <td>0.619048</td>\n",
       "      <td>0.400000</td>\n",
       "      <td>1.583333</td>\n",
       "    </tr>\n",
       "    <tr>\n",
       "      <th>2</th>\n",
       "      <td>58.0</td>\n",
       "      <td>0.465517</td>\n",
       "      <td>4.005236</td>\n",
       "      <td>0.383624</td>\n",
       "      <td>0.187226</td>\n",
       "      <td>0.225000</td>\n",
       "      <td>0.557639</td>\n",
       "    </tr>\n",
       "    <tr>\n",
       "      <th>3</th>\n",
       "      <td>206.0</td>\n",
       "      <td>-0.038835</td>\n",
       "      <td>4.486057</td>\n",
       "      <td>0.335492</td>\n",
       "      <td>0.213400</td>\n",
       "      <td>0.200000</td>\n",
       "      <td>0.500000</td>\n",
       "    </tr>\n",
       "    <tr>\n",
       "      <th>4</th>\n",
       "      <td>129.0</td>\n",
       "      <td>0.542636</td>\n",
       "      <td>4.322302</td>\n",
       "      <td>0.523455</td>\n",
       "      <td>0.432119</td>\n",
       "      <td>0.192857</td>\n",
       "      <td>1.246667</td>\n",
       "    </tr>\n",
       "  </tbody>\n",
       "</table>\n",
       "</div>"
      ],
      "text/plain": [
       "   num_peaks_rr0.25_md30_rl0.10  mean_height_rr0.25_md30_rl0.10  \\\n",
       "0                         119.0                       -0.243697   \n",
       "1                          21.0                       -0.619048   \n",
       "2                          58.0                        0.465517   \n",
       "3                         206.0                       -0.038835   \n",
       "4                         129.0                        0.542636   \n",
       "\n",
       "   std_height_rr0.25_md30_rl0.10  mean_width_rr0.25_md30_rl0.10  \\\n",
       "0                       4.342416                       0.383346   \n",
       "1                       2.645323                       0.900794   \n",
       "2                       4.005236                       0.383624   \n",
       "3                       4.486057                       0.335492   \n",
       "4                       4.322302                       0.523455   \n",
       "\n",
       "   std_width_rr0.25_md30_rl0.10  percen_width_10_rr0.25_md30_rl0.10  \\\n",
       "0                      0.213010                            0.213167   \n",
       "1                      0.619048                            0.400000   \n",
       "2                      0.187226                            0.225000   \n",
       "3                      0.213400                            0.200000   \n",
       "4                      0.432119                            0.192857   \n",
       "\n",
       "   percen_width_90_rr0.25_md30_rl0.10  \n",
       "0                            0.600000  \n",
       "1                            1.583333  \n",
       "2                            0.557639  \n",
       "3                            0.500000  \n",
       "4                            1.246667  "
      ]
     },
     "execution_count": 76,
     "metadata": {},
     "output_type": "execute_result"
    }
   ],
   "source": [
    "v16_feats.head()"
   ]
  },
  {
   "cell_type": "code",
   "execution_count": 21,
   "metadata": {},
   "outputs": [],
   "source": [
    "os = v16_feats.values[:12,:3]"
   ]
  },
  {
   "cell_type": "code",
   "execution_count": 22,
   "metadata": {},
   "outputs": [
    {
     "data": {
      "text/plain": [
       "array([[ 1.19000000e+02, -2.43697479e-01,  4.34241614e+00],\n",
       "       [ 2.10000000e+01, -6.19047619e-01,  2.64532275e+00],\n",
       "       [ 5.80000000e+01,  4.65517241e-01,  4.00523587e+00],\n",
       "       [ 2.06000000e+02, -3.88349515e-02,  4.48605678e+00],\n",
       "       [ 1.29000000e+02,  5.42635659e-01,  4.32230155e+00],\n",
       "       [ 1.74000000e+02,  5.40229885e-01,  4.48574908e+00],\n",
       "       [ 5.10000000e+01, -1.96078431e-01,  6.61554796e+00],\n",
       "       [ 2.50000000e+01,  6.80000000e-01,  6.44806948e+00],\n",
       "       [ 1.30000000e+01,  7.69230769e-02,  3.68910117e+00],\n",
       "       [ 1.55000000e+02,  1.29032258e-01,  4.43986294e+00],\n",
       "       [ 2.08000000e+02,  1.48076923e+00,  4.97779834e+00],\n",
       "       [ 1.60000000e+02, -1.43750000e-01,  5.28541256e+00]])"
      ]
     },
     "execution_count": 22,
     "metadata": {},
     "output_type": "execute_result"
    }
   ],
   "source": [
    "os"
   ]
  },
  {
   "cell_type": "code",
   "execution_count": 25,
   "metadata": {},
   "outputs": [
    {
     "data": {
      "text/plain": [
       "array([ 1.19000000e+02, -2.43697479e-01,  4.34241614e+00,  2.10000000e+01,\n",
       "       -6.19047619e-01,  2.64532275e+00,  5.80000000e+01,  4.65517241e-01,\n",
       "        4.00523587e+00,  2.06000000e+02, -3.88349515e-02,  4.48605678e+00,\n",
       "        1.29000000e+02,  5.42635659e-01,  4.32230155e+00,  1.74000000e+02,\n",
       "        5.40229885e-01,  4.48574908e+00,  5.10000000e+01, -1.96078431e-01,\n",
       "        6.61554796e+00,  2.50000000e+01,  6.80000000e-01,  6.44806948e+00,\n",
       "        1.30000000e+01,  7.69230769e-02,  3.68910117e+00,  1.55000000e+02,\n",
       "        1.29032258e-01,  4.43986294e+00,  2.08000000e+02,  1.48076923e+00,\n",
       "        4.97779834e+00,  1.60000000e+02, -1.43750000e-01,  5.28541256e+00])"
      ]
     },
     "execution_count": 25,
     "metadata": {},
     "output_type": "execute_result"
    }
   ],
   "source": [
    "np.reshape(np.reshape(os, (int(os.shape[0]/3), -1)), (-1,))"
   ]
  },
  {
   "cell_type": "code",
   "execution_count": 88,
   "metadata": {},
   "outputs": [
    {
     "ename": "AttributeError",
     "evalue": "'int' object has no attribute 'astype'",
     "output_type": "error",
     "traceback": [
      "\u001b[0;31m---------------------------------------------------------------------------\u001b[0m",
      "\u001b[0;31mAttributeError\u001b[0m                            Traceback (most recent call last)",
      "\u001b[0;32m<ipython-input-88-b2cddffbb4c5>\u001b[0m in \u001b[0;36m<module>\u001b[0;34m()\u001b[0m\n\u001b[0;32m----> 1\u001b[0;31m \u001b[0mos\u001b[0m\u001b[0;34m.\u001b[0m\u001b[0mshape\u001b[0m\u001b[0;34m[\u001b[0m\u001b[0;36m0\u001b[0m\u001b[0;34m]\u001b[0m\u001b[0;34m.\u001b[0m\u001b[0mastype\u001b[0m\u001b[0;34m(\u001b[0m\u001b[0mfloat\u001b[0m\u001b[0;34m)\u001b[0m\u001b[0;34m\u001b[0m\u001b[0;34m\u001b[0m\u001b[0m\n\u001b[0m",
      "\u001b[0;31mAttributeError\u001b[0m: 'int' object has no attribute 'astype'"
     ]
    }
   ],
   "source": [
    "os.shape[0].astype(float)"
   ]
  },
  {
   "cell_type": "code",
   "execution_count": 95,
   "metadata": {},
   "outputs": [],
   "source": [
    "tgt = os[:12,0]"
   ]
  },
  {
   "cell_type": "code",
   "execution_count": 96,
   "metadata": {},
   "outputs": [
    {
     "data": {
      "text/plain": [
       "array([119.,  21.,  58., 206., 129., 174.,  51.,  25.,  13., 155., 208.,\n",
       "       160.])"
      ]
     },
     "execution_count": 96,
     "metadata": {},
     "output_type": "execute_result"
    }
   ],
   "source": [
    "tgt"
   ]
  },
  {
   "cell_type": "code",
   "execution_count": 98,
   "metadata": {},
   "outputs": [
    {
     "data": {
      "text/plain": [
       "array([[119.,  21.,  58.],\n",
       "       [206., 129., 174.],\n",
       "       [ 51.,  25.,  13.],\n",
       "       [155., 208., 160.]])"
      ]
     },
     "execution_count": 98,
     "metadata": {},
     "output_type": "execute_result"
    }
   ],
   "source": [
    "np.reshape(tgt, newshape=(4,-1))"
   ]
  },
  {
   "cell_type": "code",
   "execution_count": 16,
   "metadata": {},
   "outputs": [],
   "source": [
    "a=np.random.rand(3,1)"
   ]
  },
  {
   "cell_type": "code",
   "execution_count": 17,
   "metadata": {},
   "outputs": [],
   "source": [
    "b=np.ones((3,5))"
   ]
  },
  {
   "cell_type": "code",
   "execution_count": 18,
   "metadata": {},
   "outputs": [
    {
     "data": {
      "text/plain": [
       "(3, 1)"
      ]
     },
     "execution_count": 18,
     "metadata": {},
     "output_type": "execute_result"
    }
   ],
   "source": [
    "np.median(b, axis=1)[:,None].shape"
   ]
  },
  {
   "cell_type": "code",
   "execution_count": 23,
   "metadata": {},
   "outputs": [
    {
     "data": {
      "text/plain": [
       "array([[0.00335596],\n",
       "       [0.03535809],\n",
       "       [0.57121979]])"
      ]
     },
     "execution_count": 23,
     "metadata": {},
     "output_type": "execute_result"
    }
   ],
   "source": [
    "a"
   ]
  },
  {
   "cell_type": "code",
   "execution_count": 25,
   "metadata": {},
   "outputs": [],
   "source": [
    "b /= a"
   ]
  },
  {
   "cell_type": "code",
   "execution_count": 26,
   "metadata": {},
   "outputs": [
    {
     "data": {
      "text/plain": [
       "array([[8.87903018e+04, 8.87903018e+04, 8.87903018e+04, 8.87903018e+04,\n",
       "        8.87903018e+04],\n",
       "       [7.99875405e+02, 7.99875405e+02, 7.99875405e+02, 7.99875405e+02,\n",
       "        7.99875405e+02],\n",
       "       [3.06473907e+00, 3.06473907e+00, 3.06473907e+00, 3.06473907e+00,\n",
       "        3.06473907e+00]])"
      ]
     },
     "execution_count": 26,
     "metadata": {},
     "output_type": "execute_result"
    }
   ],
   "source": [
    "b"
   ]
  },
  {
   "cell_type": "code",
   "execution_count": 24,
   "metadata": {},
   "outputs": [
    {
     "data": {
      "text/plain": [
       "array([0., 0., 0.])"
      ]
     },
     "execution_count": 24,
     "metadata": {},
     "output_type": "execute_result"
    }
   ],
   "source": [
    "np.ptp(b, axis=1)"
   ]
  },
  {
   "cell_type": "code",
   "execution_count": 12,
   "metadata": {},
   "outputs": [],
   "source": [
    "def max_streak(vec, gap):\n",
    "    best_streak = 0\n",
    "    curr_streak = 0\n",
    "    diffs = vec[1:]-vec[:-1]\n",
    "    for diff in diffs:\n",
    "        if diff > gap:\n",
    "            if curr_streak > best_streak:\n",
    "                best_streak = curr_streak\n",
    "            curr_streak = 0\n",
    "        else:\n",
    "            curr_streak += diff\n",
    "    if curr_streak > best_streak:\n",
    "                best_streak = curr_streak\n",
    "    return best_streak"
   ]
  },
  {
   "cell_type": "code",
   "execution_count": 13,
   "metadata": {},
   "outputs": [
    {
     "data": {
      "text/plain": [
       "3"
      ]
     },
     "execution_count": 13,
     "metadata": {},
     "output_type": "execute_result"
    }
   ],
   "source": [
    "import numpy as np\n",
    "vec = np.array([10,2000,3000,3400,3670,10000,10001,10002,10003,20000,50000,50010])\n",
    "max_streak(vec, gap=2)"
   ]
  },
  {
   "cell_type": "code",
   "execution_count": null,
   "metadata": {},
   "outputs": [],
   "source": []
  }
 ],
 "metadata": {
  "kernelspec": {
   "display_name": "Python 3",
   "language": "python",
   "name": "python3"
  },
  "language_info": {
   "codemirror_mode": {
    "name": "ipython",
    "version": 3
   },
   "file_extension": ".py",
   "mimetype": "text/x-python",
   "name": "python",
   "nbconvert_exporter": "python",
   "pygments_lexer": "ipython3",
   "version": "3.6.8"
  }
 },
 "nbformat": 4,
 "nbformat_minor": 2
}
