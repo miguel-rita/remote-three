{
 "cells": [
  {
   "cell_type": "code",
   "execution_count": 9,
   "metadata": {},
   "outputs": [],
   "source": [
    "import plotly as py\n",
    "import plotly.graph_objs as go\n",
    "import pyarrow.parquet as pq\n",
    "import numpy as np\n",
    "import pandas as pd\n",
    "\n",
    "# Select signal ids\n",
    "sig_ids = np.array([6,7,8,9, 10, 11, 228, 229, 230, 54,55,56,813,814,815])\n",
    "\n",
    "# Load selected signals\n",
    "raw_signals = pq.read_pandas('../data/train.parquet', columns=[str(i) for i in sig_ids]).to_pandas().values.T\n",
    "\n",
    "# Load metadata\n",
    "meta_train = pd.read_csv('../data/metadata_train.csv')\n",
    "\n",
    "# Get target\n",
    "target = meta_train['target'].values"
   ]
  },
  {
   "cell_type": "code",
   "execution_count": 10,
   "metadata": {},
   "outputs": [
    {
     "data": {
      "text/plain": [
       "'file:///home/lanfear/kaggle/remote-three/notebooks/single_signal.html'"
      ]
     },
     "execution_count": 10,
     "metadata": {},
     "output_type": "execute_result"
    }
   ],
   "source": [
    "# Add to data to plot\n",
    "data = []\n",
    "button_list = []\n",
    "\n",
    "\n",
    "for i, (sig_id, raw_sig) in enumerate(zip(sig_ids, raw_signals)):\n",
    "    \n",
    "    # Build trace\n",
    "    data.append(\n",
    "        go.Scatter(\n",
    "            x = np.arange(0, raw_sig.size, 1),\n",
    "            y = raw_sig,\n",
    "            visible = False\n",
    "        )\n",
    "    )\n",
    "    \n",
    "    # To hide all plots except current one\n",
    "    visibility_array = np.zeros(raw_signals.shape[0])\n",
    "    visibility_array[i] = 1\n",
    "    visibility_array = list(visibility_array.astype(np.bool))\n",
    "    \n",
    "    # Build dropdown menu entry\n",
    "    button_list.append(\n",
    "        {\n",
    "            'label' : f'Sig {sig_id:d} - Tgt {target[sig_id]:d}',\n",
    "            'method' : 'update',\n",
    "            'args' : [\n",
    "                {'visible': visibility_array},\n",
    "                {'title': f'Signal number {sig_id:d} - Target {target[sig_id]:d}',}]\n",
    "        }\n",
    "    )\n",
    "\n",
    "    \n",
    "    \n",
    "py.offline.plot(\n",
    "    {\n",
    "        \"data\": data, \n",
    "        \"layout\": go.Layout(\n",
    "            title=\"Line Chart\",\n",
    "            font=dict(\n",
    "                family='Courier New, monospace',\n",
    "                size=18,\n",
    "                color='rgb(0,0,0)'\n",
    "            ),\n",
    "            updatemenus=[\n",
    "                dict(\n",
    "                    active=-1,\n",
    "                    buttons=button_list,\n",
    "                )\n",
    "            ],\n",
    "        )\n",
    "    },\n",
    "    filename='single_signal.html',\n",
    ")"
   ]
  },
  {
   "cell_type": "code",
   "execution_count": null,
   "metadata": {},
   "outputs": [],
   "source": []
  }
 ],
 "metadata": {
  "kernelspec": {
   "display_name": "Python 3",
   "language": "python",
   "name": "python3"
  },
  "language_info": {
   "codemirror_mode": {
    "name": "ipython",
    "version": 3
   },
   "file_extension": ".py",
   "mimetype": "text/x-python",
   "name": "python",
   "nbconvert_exporter": "python",
   "pygments_lexer": "ipython3",
   "version": "3.6.6"
  }
 },
 "nbformat": 4,
 "nbformat_minor": 2
}
