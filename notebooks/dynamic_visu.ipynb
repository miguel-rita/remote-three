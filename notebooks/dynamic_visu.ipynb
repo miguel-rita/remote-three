{
 "cells": [
  {
   "cell_type": "code",
   "execution_count": 12,
   "metadata": {},
   "outputs": [],
   "source": [
    "import plotly as py\n",
    "import plotly.graph_objs as go\n",
    "import pyarrow.parquet as pq\n",
    "import numpy as np\n",
    "import pandas as pd\n",
    "import glob\n",
    "\n",
    "# Select signal ids\n",
    "sig_ids = np.array([123,124,125,162,163,164,408,409,410,435,436,437])\n",
    "\n",
    "# Load selected signals\n",
    "dir_list = [f'../preprocessed_data/pp_train_db20/pp_train_db20_{num:d}.npy' for num in range(30)]\n",
    "pp_signals = np.vstack([np.load(p) for p in dir_list])\n",
    "\n",
    "pp_signals = pp_signals[sig_ids]\n",
    "\n",
    "# Load metadata as well\n",
    "meta_train, meta_test = pd.read_csv('../data/metadata_train.csv'), pd.read_csv('../data/metadata_test.csv')\n",
    "\n",
    "# Load oof preds\n",
    "oof_preds = pd.read_hdf('../level_1_preds/lgbm_v23_0.6609_pp_oof.h5').values[:, 0]\n",
    "\n",
    "# Get target\n",
    "target = meta_train['target'].values"
   ]
  },
  {
   "cell_type": "code",
   "execution_count": 13,
   "metadata": {},
   "outputs": [
    {
     "data": {
      "text/plain": [
       "'file:///Users/miguelrita/Documents/Kaggle/remote_three/notebooks/single_signal.html'"
      ]
     },
     "execution_count": 13,
     "metadata": {},
     "output_type": "execute_result"
    }
   ],
   "source": [
    "# Add to data to plot\n",
    "data = []\n",
    "button_list = []\n",
    "\n",
    "for i, (sig_id, pp_sig) in enumerate(zip(sig_ids, pp_signals)):\n",
    "    \n",
    "    # Build trace\n",
    "    data.append(\n",
    "        go.Scatter(\n",
    "            x = np.arange(0, pp_sig.size, 1),\n",
    "            y = pp_sig,\n",
    "            visible = False\n",
    "        )\n",
    "    )\n",
    "    \n",
    "    # To hide all plots except current one\n",
    "    visibility_array = np.zeros(pp_signals.shape[0])\n",
    "    visibility_array[i] = 1\n",
    "    visibility_array = list(visibility_array.astype(np.bool))\n",
    "    \n",
    "    # Build dropdown menu entry\n",
    "    button_list.append(\n",
    "        {\n",
    "            'label' : f'Sig {sig_id:d} - Tgt {target[sig_id]:d}',\n",
    "            'method' : 'update',\n",
    "            'args' : [\n",
    "                {'visible': visibility_array},\n",
    "                {'title': f'Signal number {sig_id:d} - Target {target[sig_id]:d}',}]\n",
    "        }\n",
    "    )\n",
    "\n",
    "    \n",
    "    \n",
    "py.offline.plot(\n",
    "    {\n",
    "        \"data\": data, \n",
    "        \"layout\": go.Layout(\n",
    "            title=\"Line Chart\",\n",
    "            font=dict(\n",
    "                family='Courier New, monospace',\n",
    "                size=18,\n",
    "                color='rgb(0,0,0)'\n",
    "            ),\n",
    "            updatemenus=[\n",
    "                dict(\n",
    "                    active=-1,\n",
    "                    buttons=button_list,\n",
    "                )\n",
    "            ],\n",
    "        )\n",
    "    },\n",
    "    filename='single_signal.html',\n",
    ")"
   ]
  }
 ],
 "metadata": {
  "kernelspec": {
   "display_name": "Python 3",
   "language": "python",
   "name": "python3"
  },
  "language_info": {
   "codemirror_mode": {
    "name": "ipython",
    "version": 3
   },
   "file_extension": ".py",
   "mimetype": "text/x-python",
   "name": "python",
   "nbconvert_exporter": "python",
   "pygments_lexer": "ipython3",
   "version": "3.6.7"
  }
 },
 "nbformat": 4,
 "nbformat_minor": 2
}
